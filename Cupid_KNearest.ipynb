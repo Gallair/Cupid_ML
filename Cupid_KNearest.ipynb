{
  "nbformat": 4,
  "nbformat_minor": 0,
  "metadata": {
    "colab": {
      "name": "Cupid KNearest.ipynb",
      "provenance": [],
      "collapsed_sections": []
    },
    "kernelspec": {
      "name": "python3",
      "display_name": "Python 3"
    },
    "language_info": {
      "name": "python"
    }
  },
  "cells": [
    {
      "cell_type": "code",
      "metadata": {
        "id": "sdbS_577K9EO"
      },
      "source": [
        "import numpy as np # linear algebra\n",
        "import pandas as pd # data processing, CSV file I/O (e.g. pd.read_csv)\n",
        "import matplotlib.pyplot as plt # this is used for the plot the graph \n",
        "import os\n",
        "import seaborn as sns # used for plot interactive graph.\n",
        "from sklearn.model_selection import train_test_split, cross_val_score, GridSearchCV\n",
        "from sklearn import metrics\n",
        "from sklearn.svm import SVC  \n",
        "from sklearn.linear_model import LogisticRegression\n",
        "from sklearn.neighbors import KNeighborsClassifier\n",
        "from sklearn.tree import DecisionTreeClassifier\n",
        "from sklearn.cluster import KMeans\n",
        "from sklearn.metrics import confusion_matrix\n",
        "import sklearn.metrics.cluster as smc\n",
        "from sklearn.model_selection import KFold\n",
        "from sklearn.preprocessing import LabelEncoder, StandardScaler\n",
        "from sklearn.cluster import KMeans\n",
        "\n",
        "from matplotlib import pyplot\n",
        "import itertools\n",
        "\n",
        "%matplotlib inline\n",
        "\n",
        "import random \n",
        "  \n",
        "random.seed(42) "
      ],
      "execution_count": 1,
      "outputs": []
    },
    {
      "cell_type": "code",
      "metadata": {
        "id": "9qQxUM7HLMiP"
      },
      "source": [
        "# Helper function that allows you to draw nicely formatted confusion matrices\n",
        "def draw_confusion_matrix(y, yhat, classes):\n",
        "    '''\n",
        "        Draws a confusion matrix for the given target and predictions\n",
        "        Adapted from scikit-learn and discussion example.\n",
        "    '''\n",
        "    plt.cla()\n",
        "    plt.clf()\n",
        "    matrix = confusion_matrix(y, yhat)\n",
        "    plt.imshow(matrix, interpolation='nearest', cmap=plt.cm.Blues)\n",
        "    plt.title(\"Confusion Matrix\")\n",
        "    plt.colorbar()\n",
        "    num_classes = len(classes)\n",
        "    plt.xticks(np.arange(num_classes), classes, rotation=90)\n",
        "    plt.yticks(np.arange(num_classes), classes)    \n",
        "    fmt = 'd'\n",
        "    thresh = matrix.max() / 2.\n",
        "    for i, j in itertools.product(range(matrix.shape[0]), range(matrix.shape[1])):\n",
        "        plt.text(j, i, format(matrix[i, j], fmt),\n",
        "                 horizontalalignment=\"center\",\n",
        "                 color=\"white\" if matrix[i, j] > thresh else \"black\")\n",
        "\n",
        "    plt.ylabel('True label')\n",
        "    plt.xlabel('Predicted label')\n",
        "    plt.tight_layout()\n",
        "    plt.show()"
      ],
      "execution_count": 2,
      "outputs": []
    },
    {
      "cell_type": "code",
      "metadata": {
        "id": "isXCbwnRLQNG",
        "colab": {
          "base_uri": "https://localhost:8080/"
        },
        "outputId": "8761dda7-1c74-47f2-ee27-bfe6cc422f42"
      },
      "source": [
        "from google.colab import drive\n",
        "drive.mount('/content/gdrive/', force_remount=True)\n",
        "! ls\n",
        "cupid = pd.read_csv('/content/gdrive/My Drive/Colab Notebooks/Cupid_Data/profiles_processed_data.csv')\n"
      ],
      "execution_count": 3,
      "outputs": [
        {
          "output_type": "stream",
          "text": [
            "Mounted at /content/gdrive/\n",
            "gdrive\tsample_data\n"
          ],
          "name": "stdout"
        }
      ]
    },
    {
      "cell_type": "code",
      "metadata": {
        "colab": {
          "base_uri": "https://localhost:8080/",
          "height": 297
        },
        "id": "Ox7TQiypMnhB",
        "outputId": "9df55a50-b468-437a-f5c4-e6f651dbd7c8"
      },
      "source": [
        "cupid.describe()"
      ],
      "execution_count": 4,
      "outputs": [
        {
          "output_type": "execute_result",
          "data": {
            "text/html": [
              "<div>\n",
              "<style scoped>\n",
              "    .dataframe tbody tr th:only-of-type {\n",
              "        vertical-align: middle;\n",
              "    }\n",
              "\n",
              "    .dataframe tbody tr th {\n",
              "        vertical-align: top;\n",
              "    }\n",
              "\n",
              "    .dataframe thead th {\n",
              "        text-align: right;\n",
              "    }\n",
              "</style>\n",
              "<table border=\"1\" class=\"dataframe\">\n",
              "  <thead>\n",
              "    <tr style=\"text-align: right;\">\n",
              "      <th></th>\n",
              "      <th>body_type</th>\n",
              "      <th>drinks</th>\n",
              "      <th>drugs</th>\n",
              "      <th>height</th>\n",
              "      <th>income</th>\n",
              "      <th>orientation</th>\n",
              "      <th>sex</th>\n",
              "      <th>smokes</th>\n",
              "      <th>status</th>\n",
              "      <th>record</th>\n",
              "      <th>new_sign</th>\n",
              "      <th>new_religion</th>\n",
              "      <th>age</th>\n",
              "    </tr>\n",
              "  </thead>\n",
              "  <tbody>\n",
              "    <tr>\n",
              "      <th>count</th>\n",
              "      <td>23742.000000</td>\n",
              "      <td>23742.000000</td>\n",
              "      <td>23742.000000</td>\n",
              "      <td>23742.000000</td>\n",
              "      <td>23742.000000</td>\n",
              "      <td>23742.000000</td>\n",
              "      <td>23742.000000</td>\n",
              "      <td>23742.000000</td>\n",
              "      <td>23742.000000</td>\n",
              "      <td>23742.000000</td>\n",
              "      <td>23742.000000</td>\n",
              "      <td>23742.000000</td>\n",
              "      <td>23742.000000</td>\n",
              "    </tr>\n",
              "    <tr>\n",
              "      <th>mean</th>\n",
              "      <td>4.974813</td>\n",
              "      <td>2.839946</td>\n",
              "      <td>1.206891</td>\n",
              "      <td>68.196951</td>\n",
              "      <td>25011.899419</td>\n",
              "      <td>1.390574</td>\n",
              "      <td>1.411423</td>\n",
              "      <td>1.488164</td>\n",
              "      <td>1.176817</td>\n",
              "      <td>30361.794668</td>\n",
              "      <td>6.475444</td>\n",
              "      <td>4.167088</td>\n",
              "      <td>33.265100</td>\n",
              "    </tr>\n",
              "    <tr>\n",
              "      <th>std</th>\n",
              "      <td>2.300229</td>\n",
              "      <td>0.759806</td>\n",
              "      <td>0.428628</td>\n",
              "      <td>3.954892</td>\n",
              "      <td>105150.184304</td>\n",
              "      <td>0.961480</td>\n",
              "      <td>0.492102</td>\n",
              "      <td>1.104615</td>\n",
              "      <td>0.650879</td>\n",
              "      <td>17515.564321</td>\n",
              "      <td>3.377759</td>\n",
              "      <td>2.859354</td>\n",
              "      <td>10.337491</td>\n",
              "    </tr>\n",
              "    <tr>\n",
              "      <th>min</th>\n",
              "      <td>1.000000</td>\n",
              "      <td>1.000000</td>\n",
              "      <td>1.000000</td>\n",
              "      <td>3.000000</td>\n",
              "      <td>-1.000000</td>\n",
              "      <td>1.000000</td>\n",
              "      <td>1.000000</td>\n",
              "      <td>1.000000</td>\n",
              "      <td>1.000000</td>\n",
              "      <td>0.000000</td>\n",
              "      <td>1.000000</td>\n",
              "      <td>1.000000</td>\n",
              "      <td>18.000000</td>\n",
              "    </tr>\n",
              "    <tr>\n",
              "      <th>25%</th>\n",
              "      <td>3.000000</td>\n",
              "      <td>3.000000</td>\n",
              "      <td>1.000000</td>\n",
              "      <td>65.000000</td>\n",
              "      <td>-1.000000</td>\n",
              "      <td>1.000000</td>\n",
              "      <td>1.000000</td>\n",
              "      <td>1.000000</td>\n",
              "      <td>1.000000</td>\n",
              "      <td>15103.750000</td>\n",
              "      <td>4.000000</td>\n",
              "      <td>2.000000</td>\n",
              "      <td>26.000000</td>\n",
              "    </tr>\n",
              "    <tr>\n",
              "      <th>50%</th>\n",
              "      <td>4.000000</td>\n",
              "      <td>3.000000</td>\n",
              "      <td>1.000000</td>\n",
              "      <td>68.000000</td>\n",
              "      <td>-1.000000</td>\n",
              "      <td>1.000000</td>\n",
              "      <td>1.000000</td>\n",
              "      <td>1.000000</td>\n",
              "      <td>1.000000</td>\n",
              "      <td>30694.500000</td>\n",
              "      <td>6.000000</td>\n",
              "      <td>3.000000</td>\n",
              "      <td>30.000000</td>\n",
              "    </tr>\n",
              "    <tr>\n",
              "      <th>75%</th>\n",
              "      <td>6.000000</td>\n",
              "      <td>3.000000</td>\n",
              "      <td>1.000000</td>\n",
              "      <td>71.000000</td>\n",
              "      <td>20000.000000</td>\n",
              "      <td>1.000000</td>\n",
              "      <td>2.000000</td>\n",
              "      <td>1.000000</td>\n",
              "      <td>1.000000</td>\n",
              "      <td>45371.500000</td>\n",
              "      <td>9.000000</td>\n",
              "      <td>6.000000</td>\n",
              "      <td>38.000000</td>\n",
              "    </tr>\n",
              "    <tr>\n",
              "      <th>max</th>\n",
              "      <td>12.000000</td>\n",
              "      <td>6.000000</td>\n",
              "      <td>3.000000</td>\n",
              "      <td>95.000000</td>\n",
              "      <td>1000000.000000</td>\n",
              "      <td>4.000000</td>\n",
              "      <td>2.000000</td>\n",
              "      <td>5.000000</td>\n",
              "      <td>5.000000</td>\n",
              "      <td>60550.000000</td>\n",
              "      <td>12.000000</td>\n",
              "      <td>9.000000</td>\n",
              "      <td>69.000000</td>\n",
              "    </tr>\n",
              "  </tbody>\n",
              "</table>\n",
              "</div>"
            ],
            "text/plain": [
              "          body_type        drinks  ...  new_religion           age\n",
              "count  23742.000000  23742.000000  ...  23742.000000  23742.000000\n",
              "mean       4.974813      2.839946  ...      4.167088     33.265100\n",
              "std        2.300229      0.759806  ...      2.859354     10.337491\n",
              "min        1.000000      1.000000  ...      1.000000     18.000000\n",
              "25%        3.000000      3.000000  ...      2.000000     26.000000\n",
              "50%        4.000000      3.000000  ...      3.000000     30.000000\n",
              "75%        6.000000      3.000000  ...      6.000000     38.000000\n",
              "max       12.000000      6.000000  ...      9.000000     69.000000\n",
              "\n",
              "[8 rows x 13 columns]"
            ]
          },
          "metadata": {
            "tags": []
          },
          "execution_count": 4
        }
      ]
    },
    {
      "cell_type": "code",
      "metadata": {
        "id": "b9pC19FPgVh3"
      },
      "source": [
        "cupid_df = cupid\n",
        "\n",
        "#need sex versus drink, smoke, status\n",
        "cupid_df1 = cupid[[\"drinks\", \"smokes\", \"status\",\"drugs\",\"body_type\",\"status\",\"new_religion\",\"age\", \"height\", \"sex\"]]\n",
        "#need all\n",
        "cupid_df3 = cupid[[\"body_type\",\t\"drinks\",\t\"drugs\",\t\"height\",\t\"orientation\",\t\"sex\",\t\"smokes\",\t\"status\",\t\t\"new_sign\",\t\"new_religion\",\t\"age\"]]\n",
        "\n"
      ],
      "execution_count": 5,
      "outputs": []
    },
    {
      "cell_type": "code",
      "metadata": {
        "id": "P1ufgNddo8xD"
      },
      "source": [
        "label = \"sex\"\n",
        "y = cupid_df1[label]\n",
        "x = cupid_df1.drop(label, axis=1)\n",
        "#print(y)\n",
        "#print(x)"
      ],
      "execution_count": 6,
      "outputs": []
    },
    {
      "cell_type": "code",
      "metadata": {
        "id": "6RnoAYxspHt9"
      },
      "source": [
        "train, test, target, target_test = train_test_split(x, y, test_size=0.3, random_state=0)"
      ],
      "execution_count": 7,
      "outputs": []
    },
    {
      "cell_type": "code",
      "metadata": {
        "colab": {
          "base_uri": "https://localhost:8080/"
        },
        "id": "xr3eBKhoytDK",
        "outputId": "0a7fca55-3106-44b3-b378-c9e011e49adc"
      },
      "source": [
        "knn = KNeighborsClassifier(n_neighbors = 12)\n",
        "knn.fit(train, target)"
      ],
      "execution_count": 8,
      "outputs": [
        {
          "output_type": "execute_result",
          "data": {
            "text/plain": [
              "KNeighborsClassifier(algorithm='auto', leaf_size=30, metric='minkowski',\n",
              "                     metric_params=None, n_jobs=None, n_neighbors=12, p=2,\n",
              "                     weights='uniform')"
            ]
          },
          "metadata": {
            "tags": []
          },
          "execution_count": 8
        }
      ]
    },
    {
      "cell_type": "code",
      "metadata": {
        "colab": {
          "base_uri": "https://localhost:8080/"
        },
        "id": "VYP_LOi7yvl1",
        "outputId": "5fa12dc1-98cc-4996-ccf8-a095d3e0689e"
      },
      "source": [
        "knn_pred = knn.predict(test)\n",
        "metrics.accuracy_score(target_test, knn_pred)"
      ],
      "execution_count": 9,
      "outputs": [
        {
          "output_type": "execute_result",
          "data": {
            "text/plain": [
              "0.8389723431138565"
            ]
          },
          "metadata": {
            "tags": []
          },
          "execution_count": 9
        }
      ]
    },
    {
      "cell_type": "code",
      "metadata": {
        "colab": {
          "base_uri": "https://localhost:8080/"
        },
        "id": "hbVB0cwWyyKy",
        "outputId": "7ede656d-1451-4bf7-e996-9e1b2c350330"
      },
      "source": [
        "acc = []\n",
        "\n",
        "for i in range(1, 21):\n",
        "    knn = KNeighborsClassifier(n_neighbors = i)\n",
        "    knn.fit(train, target)\n",
        "    knn_pred = knn.predict(test)\n",
        "    accuracy = metrics.accuracy_score(target_test, knn_pred)\n",
        "    acc.append(accuracy)\n",
        "    print(accuracy)"
      ],
      "execution_count": 10,
      "outputs": [
        {
          "output_type": "stream",
          "text": [
            "0.7941878422013197\n",
            "0.8107538958304086\n",
            "0.8219851186297908\n",
            "0.8302681454443352\n",
            "0.8312508774392812\n",
            "0.83363751228415\n",
            "0.8370068791239647\n",
            "0.8423417099536712\n",
            "0.838691562543872\n",
            "0.8403762459637794\n",
            "0.8374280499789415\n",
            "0.8389723431138565\n",
            "0.8410781973887407\n",
            "0.8414993682437175\n",
            "0.8423417099536712\n",
            "0.8414993682437175\n",
            "0.8443071739435631\n",
            "0.8430436613786326\n",
            "0.8426224905236558\n",
            "0.8429032710936403\n"
          ],
          "name": "stdout"
        }
      ]
    },
    {
      "cell_type": "code",
      "metadata": {
        "colab": {
          "base_uri": "https://localhost:8080/",
          "height": 312
        },
        "id": "KP8xikJiy1Lu",
        "outputId": "9583e3e9-3752-4544-b36e-3b5eb6a05548"
      },
      "source": [
        "plt.plot(range(1, 21), acc, marker = \"o\", markerfacecolor = \"red\")\n",
        "plt.title(\"K Values and Their Accuracy\")\n",
        "plt.xlabel(\"K Value\")\n",
        "plt.ylabel(\"Accuracy\")\n",
        "print(\"Max accuracy of {} occurs at K = {}\".format(max(acc), acc.index(max(acc))))"
      ],
      "execution_count": 11,
      "outputs": [
        {
          "output_type": "stream",
          "text": [
            "Max accuracy of 0.8443071739435631 occurs at K = 16\n"
          ],
          "name": "stdout"
        },
        {
          "output_type": "display_data",
          "data": {
            "image/png": "[encoded data removed]",
            "text/plain": [
              "<Figure size 432x288 with 1 Axes>"
            ]
          },
          "metadata": {
            "tags": [],
            "needs_background": "light"
          }
        }
      ]
    },
    {
      "cell_type": "code",
      "metadata": {
        "colab": {
          "base_uri": "https://localhost:8080/"
        },
        "id": "MrQnclzzy4CQ",
        "outputId": "7a254bf9-7ef7-4476-d896-835cf58b6d8f"
      },
      "source": [
        "cv = cross_val_score(knn, train, target)\n",
        "print(np.mean(cv))"
      ],
      "execution_count": 12,
      "outputs": [
        {
          "output_type": "stream",
          "text": [
            "0.8440339963634559\n"
          ],
          "name": "stdout"
        }
      ]
    },
    {
      "cell_type": "code",
      "metadata": {
        "colab": {
          "base_uri": "https://localhost:8080/"
        },
        "id": "pwf-wO4Py6na",
        "outputId": "94e2c2b6-ab9f-4516-b79c-f3372f77c83a"
      },
      "source": [
        "cv"
      ],
      "execution_count": 13,
      "outputs": [
        {
          "output_type": "execute_result",
          "data": {
            "text/plain": [
              "array([0.84476534, 0.84416366, 0.84506619, 0.84115523, 0.84501956])"
            ]
          },
          "metadata": {
            "tags": []
          },
          "execution_count": 13
        }
      ]
    },
    {
      "cell_type": "code",
      "metadata": {
        "colab": {
          "base_uri": "https://localhost:8080/",
          "height": 297
        },
        "id": "iAmAqDoNvERo",
        "outputId": "f6657028-c3c8-4679-8b71-588ff151b8af"
      },
      "source": [
        "draw_confusion_matrix(target_test, knn_pred, ['Male', 'Female'])"
      ],
      "execution_count": 15,
      "outputs": [
        {
          "output_type": "display_data",
          "data": {
            "image/png": "[encoded data removed]",
            "text/plain": [
              "<Figure size 432x288 with 2 Axes>"
            ]
          },
          "metadata": {
            "tags": [],
            "needs_background": "light"
          }
        }
      ]
    },
    {
      "cell_type": "code",
      "metadata": {
        "colab": {
          "base_uri": "https://localhost:8080/",
          "height": 949
        },
        "id": "6za3ojHj0Lbx",
        "outputId": "d2444f6e-1a36-463a-9144-a79e6e6ffb35"
      },
      "source": [
        "label = \"new_sign\"\n",
        "y = cupid_df3[label]\n",
        "x = cupid_df3.drop(label, axis=1)\n",
        "train, test, target, target_test = train_test_split(x, y, test_size=0.3, random_state=0)\n",
        "\n",
        "knn = KNeighborsClassifier(n_neighbors = 12)\n",
        "knn.fit(train, target)\n",
        "\n",
        "knn_pred = knn.predict(test)\n",
        "metrics.accuracy_score(target_test, knn_pred)\n",
        "\n",
        "acc = []\n",
        "\n",
        "for i in range(1, 21):\n",
        "    knn = KNeighborsClassifier(n_neighbors = i)\n",
        "    knn.fit(train, target)\n",
        "    knn_pred = knn.predict(test)\n",
        "    accuracy = metrics.accuracy_score(target_test, knn_pred)\n",
        "    acc.append(accuracy)\n",
        "    print(accuracy)\n",
        "\n",
        "plt.clf\n",
        "plt.plot(range(1, 21), acc, marker = \"o\", markerfacecolor = \"red\")\n",
        "plt.title(\"K Values and Their Accuracy\")\n",
        "plt.xlabel(\"K Value\")\n",
        "plt.ylabel(\"Accuracy\")\n",
        "print(\"Max accuracy of {} occurs at K = {}\".format(max(acc), acc.index(max(acc))))\n",
        "plt.show()\n",
        "cv = cross_val_score(knn, train, target)\n",
        "print(np.mean(cv))\n",
        "cv\n",
        "\n",
        "draw_confusion_matrix(target_test, knn_pred, [\"aquarius\", \"pisces\", \"aries\", \"taurus\", \"gemini\", \"cancer\", \"leo\", \"virgo\", \"libra\", \"scorpio\", \"sagittarius\",  \"capricorn\"])"
      ],
      "execution_count": 17,
      "outputs": [
        {
          "output_type": "stream",
          "text": [
            "0.08100519444054471\n",
            "0.0856380738452899\n",
            "0.0909729046749965\n",
            "0.09013056296504282\n",
            "0.09237680752491928\n",
            "0.09041134353502737\n",
            "0.08999017268005054\n",
            "0.09111329495998877\n",
            "0.09279797837989612\n",
            "0.09111329495998877\n",
            "0.09013056296504282\n",
            "0.09279797837989612\n",
            "0.0895690018250737\n",
            "0.09293836866488839\n",
            "0.092236417239927\n",
            "0.09041134353502737\n",
            "0.08928822125508915\n",
            "0.0909729046749965\n",
            "0.08970939211006598\n",
            "0.09279797837989612\n",
            "Max accuracy of 0.09293836866488839 occurs at K = 13\n"
          ],
          "name": "stdout"
        },
        {
          "output_type": "display_data",
          "data": {
            "image/png": "[encoded data removed]",
            "text/plain": [
              "<Figure size 432x288 with 1 Axes>"
            ]
          },
          "metadata": {
            "tags": [],
            "needs_background": "light"
          }
        },
        {
          "output_type": "stream",
          "text": [
            "0.08622685197759264\n"
          ],
          "name": "stdout"
        },
        {
          "output_type": "display_data",
          "data": {
            "image/png": "[encoded data removed]",
            "text/plain": [
              "<Figure size 432x288 with 2 Axes>"
            ]
          },
          "metadata": {
            "tags": [],
            "needs_background": "light"
          }
        }
      ]
    }
  ]
}
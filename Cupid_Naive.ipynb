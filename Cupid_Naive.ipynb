{
  "nbformat": 4,
  "nbformat_minor": 0,
  "metadata": {
    "colab": {
      "name": "Cupid Naive.ipynb",
      "provenance": [],
      "collapsed_sections": []
    },
    "kernelspec": {
      "name": "python3",
      "display_name": "Python 3"
    },
    "language_info": {
      "name": "python"
    }
  },
  "cells": [
    {
      "cell_type": "code",
      "metadata": {
        "id": "sdbS_577K9EO"
      },
      "source": [
        "import numpy as np # linear algebra\n",
        "import pandas as pd # data processing, CSV file I/O (e.g. pd.read_csv)\n",
        "import matplotlib.pyplot as plt # this is used for the plot the graph \n",
        "import os\n",
        "import seaborn as sns # used for plot interactive graph.\n",
        "from sklearn.model_selection import train_test_split, cross_val_score, GridSearchCV\n",
        "from sklearn import metrics\n",
        "from sklearn.svm import SVC  \n",
        "from sklearn.linear_model import LogisticRegression\n",
        "from sklearn.neighbors import KNeighborsClassifier\n",
        "from sklearn.tree import DecisionTreeClassifier\n",
        "from sklearn.cluster import KMeans\n",
        "from sklearn.metrics import confusion_matrix\n",
        "import sklearn.metrics.cluster as smc\n",
        "from sklearn.model_selection import KFold\n",
        "from sklearn.preprocessing import LabelEncoder, StandardScaler\n",
        "from sklearn.cluster import KMeans\n",
        "\n",
        "from matplotlib import pyplot\n",
        "import itertools\n",
        "\n",
        "%matplotlib inline\n",
        "\n",
        "import random \n",
        "  \n",
        "random.seed(42) "
      ],
      "execution_count": null,
      "outputs": []
    },
    {
      "cell_type": "code",
      "metadata": {
        "id": "9qQxUM7HLMiP"
      },
      "source": [
        "# Helper function that allows you to draw nicely formatted confusion matrices\n",
        "def draw_confusion_matrix(y, yhat, classes):\n",
        "    '''\n",
        "        Draws a confusion matrix for the given target and predictions\n",
        "        Adapted from scikit-learn and discussion example.\n",
        "    '''\n",
        "    plt.cla()\n",
        "    plt.clf()\n",
        "    matrix = confusion_matrix(y, yhat)\n",
        "    plt.imshow(matrix, interpolation='nearest', cmap=plt.cm.Blues)\n",
        "    plt.title(\"Confusion Matrix\")\n",
        "    plt.colorbar()\n",
        "    num_classes = len(classes)\n",
        "    plt.xticks(np.arange(num_classes), classes, rotation=90)\n",
        "    plt.yticks(np.arange(num_classes), classes)    \n",
        "    fmt = 'd'\n",
        "    thresh = matrix.max() / 2.\n",
        "    for i, j in itertools.product(range(matrix.shape[0]), range(matrix.shape[1])):\n",
        "        plt.text(j, i, format(matrix[i, j], fmt),\n",
        "                 horizontalalignment=\"center\",\n",
        "                 color=\"white\" if matrix[i, j] > thresh else \"black\")\n",
        "\n",
        "    plt.ylabel('True label')\n",
        "    plt.xlabel('Predicted label')\n",
        "    plt.tight_layout()\n",
        "    plt.show()"
      ],
      "execution_count": null,
      "outputs": []
    },
    {
      "cell_type": "code",
      "metadata": {
        "id": "v-wNseWC1Eyb"
      },
      "source": [
        "def draw_3var_confusion_matrix(cm, classes,\n",
        "                          normalize=False,\n",
        "                          title='Confusion matrix',\n",
        "                          cmap=plt.cm.Blues):\n",
        "    \"\"\"\n",
        "    This function prints and plots the confusion matrix.\n",
        "    Normalization can be applied by setting `normalize=True`.\n",
        "    \"\"\"\n",
        "    import itertools\n",
        "    if normalize:\n",
        "        cm = cm.astype('float') / cm.sum(axis=1)[:, np.newaxis]\n",
        "        print(\"Normalized confusion matrix\")\n",
        "    else:\n",
        "        print('Confusion matrix, without normalization')\n",
        "\n",
        "    print(cm)\n",
        "\n",
        "    plt.imshow(cm, interpolation='nearest', cmap=cmap)\n",
        "    plt.title(title)\n",
        "    plt.colorbar()\n",
        "    tick_marks = np.arange(len(classes))\n",
        "    plt.xticks(tick_marks, classes, rotation=45)\n",
        "    plt.yticks(tick_marks, classes)\n",
        "\n",
        "    fmt = '.2f' if normalize else 'd'\n",
        "    thresh = cm.max() / 2.\n",
        "    for i, j in itertools.product(range(cm.shape[0]), range(cm.shape[1])):\n",
        "        plt.text(j, i, format(cm[i, j], fmt),\n",
        "                 horizontalalignment=\"center\",\n",
        "                 color=\"white\" if cm[i, j] > thresh else \"black\")\n",
        "\n",
        "    plt.ylabel('True label')\n",
        "    plt.xlabel('Predicted label')\n",
        "    plt.tight_layout()"
      ],
      "execution_count": null,
      "outputs": []
    },
    {
      "cell_type": "code",
      "metadata": {
        "id": "isXCbwnRLQNG",
        "colab": {
          "base_uri": "https://localhost:8080/"
        },
        "outputId": "6da50a32-0964-4722-91c3-060de79f08eb"
      },
      "source": [
        "from google.colab import drive\n",
        "drive.mount('/content/gdrive/', force_remount=True)\n",
        "! ls\n",
        "cupid = pd.read_csv('/content/gdrive/My Drive/Colab Notebooks/Cupid_Data/profiles_processed_data.csv')\n"
      ],
      "execution_count": null,
      "outputs": [
        {
          "output_type": "stream",
          "text": [
            "Mounted at /content/gdrive/\n",
            "gdrive\tsample_data\n"
          ],
          "name": "stdout"
        }
      ]
    },
    {
      "cell_type": "code",
      "metadata": {
        "colab": {
          "base_uri": "https://localhost:8080/",
          "height": 297
        },
        "id": "Ox7TQiypMnhB",
        "outputId": "effd9a53-997f-48b4-d4fb-5bad3436bbc4"
      },
      "source": [
        "cupid.describe()"
      ],
      "execution_count": null,
      "outputs": [
        {
          "output_type": "execute_result",
          "data": {
            "text/html": [
              "<div>\n",
              "<style scoped>\n",
              "    .dataframe tbody tr th:only-of-type {\n",
              "        vertical-align: middle;\n",
              "    }\n",
              "\n",
              "    .dataframe tbody tr th {\n",
              "        vertical-align: top;\n",
              "    }\n",
              "\n",
              "    .dataframe thead th {\n",
              "        text-align: right;\n",
              "    }\n",
              "</style>\n",
              "<table border=\"1\" class=\"dataframe\">\n",
              "  <thead>\n",
              "    <tr style=\"text-align: right;\">\n",
              "      <th></th>\n",
              "      <th>body_type</th>\n",
              "      <th>drinks</th>\n",
              "      <th>drugs</th>\n",
              "      <th>height</th>\n",
              "      <th>income</th>\n",
              "      <th>orientation</th>\n",
              "      <th>sex</th>\n",
              "      <th>smokes</th>\n",
              "      <th>status</th>\n",
              "      <th>record</th>\n",
              "      <th>new_sign</th>\n",
              "      <th>new_religion</th>\n",
              "      <th>age</th>\n",
              "    </tr>\n",
              "  </thead>\n",
              "  <tbody>\n",
              "    <tr>\n",
              "      <th>count</th>\n",
              "      <td>23742.000000</td>\n",
              "      <td>23742.000000</td>\n",
              "      <td>23742.000000</td>\n",
              "      <td>23742.000000</td>\n",
              "      <td>23742.000000</td>\n",
              "      <td>23742.000000</td>\n",
              "      <td>23742.000000</td>\n",
              "      <td>23742.000000</td>\n",
              "      <td>23742.000000</td>\n",
              "      <td>23742.000000</td>\n",
              "      <td>23742.000000</td>\n",
              "      <td>23742.000000</td>\n",
              "      <td>23742.000000</td>\n",
              "    </tr>\n",
              "    <tr>\n",
              "      <th>mean</th>\n",
              "      <td>4.974813</td>\n",
              "      <td>2.839946</td>\n",
              "      <td>1.206891</td>\n",
              "      <td>68.196951</td>\n",
              "      <td>25011.899419</td>\n",
              "      <td>1.390574</td>\n",
              "      <td>1.411423</td>\n",
              "      <td>1.488164</td>\n",
              "      <td>1.176817</td>\n",
              "      <td>30361.794668</td>\n",
              "      <td>6.475444</td>\n",
              "      <td>4.167088</td>\n",
              "      <td>33.265100</td>\n",
              "    </tr>\n",
              "    <tr>\n",
              "      <th>std</th>\n",
              "      <td>2.300229</td>\n",
              "      <td>0.759806</td>\n",
              "      <td>0.428628</td>\n",
              "      <td>3.954892</td>\n",
              "      <td>105150.184304</td>\n",
              "      <td>0.961480</td>\n",
              "      <td>0.492102</td>\n",
              "      <td>1.104615</td>\n",
              "      <td>0.650879</td>\n",
              "      <td>17515.564321</td>\n",
              "      <td>3.377759</td>\n",
              "      <td>2.859354</td>\n",
              "      <td>10.337491</td>\n",
              "    </tr>\n",
              "    <tr>\n",
              "      <th>min</th>\n",
              "      <td>1.000000</td>\n",
              "      <td>1.000000</td>\n",
              "      <td>1.000000</td>\n",
              "      <td>3.000000</td>\n",
              "      <td>-1.000000</td>\n",
              "      <td>1.000000</td>\n",
              "      <td>1.000000</td>\n",
              "      <td>1.000000</td>\n",
              "      <td>1.000000</td>\n",
              "      <td>0.000000</td>\n",
              "      <td>1.000000</td>\n",
              "      <td>1.000000</td>\n",
              "      <td>18.000000</td>\n",
              "    </tr>\n",
              "    <tr>\n",
              "      <th>25%</th>\n",
              "      <td>3.000000</td>\n",
              "      <td>3.000000</td>\n",
              "      <td>1.000000</td>\n",
              "      <td>65.000000</td>\n",
              "      <td>-1.000000</td>\n",
              "      <td>1.000000</td>\n",
              "      <td>1.000000</td>\n",
              "      <td>1.000000</td>\n",
              "      <td>1.000000</td>\n",
              "      <td>15103.750000</td>\n",
              "      <td>4.000000</td>\n",
              "      <td>2.000000</td>\n",
              "      <td>26.000000</td>\n",
              "    </tr>\n",
              "    <tr>\n",
              "      <th>50%</th>\n",
              "      <td>4.000000</td>\n",
              "      <td>3.000000</td>\n",
              "      <td>1.000000</td>\n",
              "      <td>68.000000</td>\n",
              "      <td>-1.000000</td>\n",
              "      <td>1.000000</td>\n",
              "      <td>1.000000</td>\n",
              "      <td>1.000000</td>\n",
              "      <td>1.000000</td>\n",
              "      <td>30694.500000</td>\n",
              "      <td>6.000000</td>\n",
              "      <td>3.000000</td>\n",
              "      <td>30.000000</td>\n",
              "    </tr>\n",
              "    <tr>\n",
              "      <th>75%</th>\n",
              "      <td>6.000000</td>\n",
              "      <td>3.000000</td>\n",
              "      <td>1.000000</td>\n",
              "      <td>71.000000</td>\n",
              "      <td>20000.000000</td>\n",
              "      <td>1.000000</td>\n",
              "      <td>2.000000</td>\n",
              "      <td>1.000000</td>\n",
              "      <td>1.000000</td>\n",
              "      <td>45371.500000</td>\n",
              "      <td>9.000000</td>\n",
              "      <td>6.000000</td>\n",
              "      <td>38.000000</td>\n",
              "    </tr>\n",
              "    <tr>\n",
              "      <th>max</th>\n",
              "      <td>12.000000</td>\n",
              "      <td>6.000000</td>\n",
              "      <td>3.000000</td>\n",
              "      <td>95.000000</td>\n",
              "      <td>1000000.000000</td>\n",
              "      <td>4.000000</td>\n",
              "      <td>2.000000</td>\n",
              "      <td>5.000000</td>\n",
              "      <td>5.000000</td>\n",
              "      <td>60550.000000</td>\n",
              "      <td>12.000000</td>\n",
              "      <td>9.000000</td>\n",
              "      <td>69.000000</td>\n",
              "    </tr>\n",
              "  </tbody>\n",
              "</table>\n",
              "</div>"
            ],
            "text/plain": [
              "          body_type        drinks  ...  new_religion           age\n",
              "count  23742.000000  23742.000000  ...  23742.000000  23742.000000\n",
              "mean       4.974813      2.839946  ...      4.167088     33.265100\n",
              "std        2.300229      0.759806  ...      2.859354     10.337491\n",
              "min        1.000000      1.000000  ...      1.000000     18.000000\n",
              "25%        3.000000      3.000000  ...      2.000000     26.000000\n",
              "50%        4.000000      3.000000  ...      3.000000     30.000000\n",
              "75%        6.000000      3.000000  ...      6.000000     38.000000\n",
              "max       12.000000      6.000000  ...      9.000000     69.000000\n",
              "\n",
              "[8 rows x 13 columns]"
            ]
          },
          "metadata": {
            "tags": []
          },
          "execution_count": 66
        }
      ]
    },
    {
      "cell_type": "code",
      "metadata": {
        "id": "b9pC19FPgVh3"
      },
      "source": [
        "cupid_df = cupid\n",
        "\n",
        "#need sex versus drink, smoke, status\n",
        "cupid_df1 = cupid[[\"drinks\", \"smokes\", \"status\",\"drugs\",\"body_type\",\"status\",\"new_religion\",\"age\", \"sex\"]]\n",
        "#need all\n",
        "cupid_df3 = cupid[[\"body_type\",\t\"drinks\",\t\"drugs\",\t\"height\",\t\"orientation\",\t\"sex\",\t\"smokes\",\t\"status\",\t\t\"new_sign\",\t\"new_religion\",\t\"age\"]]\n",
        "\n"
      ],
      "execution_count": null,
      "outputs": []
    },
    {
      "cell_type": "code",
      "metadata": {
        "colab": {
          "base_uri": "https://localhost:8080/"
        },
        "id": "0Ill29d0fAwn",
        "outputId": "08067b7d-ed93-48f5-ac92-a5029d76880c"
      },
      "source": [
        "model = KMeans(n_clusters = 3)\n",
        "model.fit(cupid_df1)\n",
        "labels = model.predict(cupid_df1)\n",
        "\n",
        "print(labels)\n",
        "\n"
      ],
      "execution_count": null,
      "outputs": [
        {
          "output_type": "stream",
          "text": [
            "[0 2 0 ... 0 2 0]\n"
          ],
          "name": "stdout"
        }
      ]
    },
    {
      "cell_type": "code",
      "metadata": {
        "id": "MZRTnTqLlq43",
        "colab": {
          "base_uri": "https://localhost:8080/",
          "height": 296
        },
        "outputId": "b92454bf-90de-4418-8cac-ea91dbe2a314"
      },
      "source": [
        "x = cupid_df1[\"drinks\"]\n",
        "y = cupid_df1[\"smokes\"]\n",
        "\n",
        "plt.scatter(x, y, c=labels, alpha=0.5)\n",
        " \n",
        "plt.xlabel('drinks')\n",
        "plt.ylabel('smokes')"
      ],
      "execution_count": null,
      "outputs": [
        {
          "output_type": "execute_result",
          "data": {
            "text/plain": [
              "Text(0, 0.5, 'smokes')"
            ]
          },
          "metadata": {
            "tags": []
          },
          "execution_count": 98
        },
        {
          "output_type": "display_data",
          "data": {
            "image/png": "[encoded data removed]",
            "text/plain": [
              "<Figure size 432x288 with 1 Axes>"
            ]
          },
          "metadata": {
            "tags": [],
            "needs_background": "light"
          }
        }
      ]
    },
    {
      "cell_type": "code",
      "metadata": {
        "id": "P1ufgNddo8xD"
      },
      "source": [
        "label = \"sex\"\n",
        "y = cupid_df1[label]\n",
        "x = cupid_df1.drop(label, axis=1)\n",
        "#print(y)\n",
        "#print(x)"
      ],
      "execution_count": null,
      "outputs": []
    },
    {
      "cell_type": "code",
      "metadata": {
        "id": "6RnoAYxspHt9"
      },
      "source": [
        "train, test, target, target_test = train_test_split(x, y, test_size=0.3, random_state=0)"
      ],
      "execution_count": null,
      "outputs": []
    },
    {
      "cell_type": "code",
      "metadata": {
        "colab": {
          "base_uri": "https://localhost:8080/"
        },
        "id": "0s4rfWV1phF1",
        "outputId": "fa5ce674-d95d-46b6-d6e2-7b7ff2dc9050"
      },
      "source": [
        "from sklearn.naive_bayes import GaussianNB\n",
        "gauss = GaussianNB()\n",
        "gauss.fit(train, target)"
      ],
      "execution_count": null,
      "outputs": [
        {
          "output_type": "execute_result",
          "data": {
            "text/plain": [
              "GaussianNB(priors=None, var_smoothing=1e-09)"
            ]
          },
          "metadata": {
            "tags": []
          },
          "execution_count": 101
        }
      ]
    },
    {
      "cell_type": "code",
      "metadata": {
        "colab": {
          "base_uri": "https://localhost:8080/"
        },
        "id": "xyDlOuIgpiDV",
        "outputId": "d1cc505b-db89-45f9-a376-48ef38754e58"
      },
      "source": [
        "##WITH FLAGS\n",
        "from sklearn import metrics\n",
        "gauss_pred = gauss.predict(test)\n",
        "gauss_pred1 = gauss.predict(train)\n",
        "score1 = metrics.accuracy_score(target_test, gauss_pred)\n",
        "score2 = metrics.accuracy_score(target, gauss_pred1)\n",
        "print(score1)\n",
        "print(score2)\n"
      ],
      "execution_count": null,
      "outputs": [
        {
          "output_type": "stream",
          "text": [
            "0.661799803453601\n",
            "0.6490161862927974\n"
          ],
          "name": "stdout"
        }
      ]
    },
    {
      "cell_type": "code",
      "metadata": {
        "colab": {
          "base_uri": "https://localhost:8080/",
          "height": 297
        },
        "id": "DDhclSLhocTX",
        "outputId": "f470a34e-8288-49ed-c4ed-d517f80b9db8"
      },
      "source": [
        "draw_confusion_matrix(target_test, gauss_pred, ['Male', 'Female'])"
      ],
      "execution_count": null,
      "outputs": [
        {
          "output_type": "display_data",
          "data": {
            "image/png": "[encoded data removed]",
            "text/plain": [
              "<Figure size 432x288 with 2 Axes>"
            ]
          },
          "metadata": {
            "tags": [],
            "needs_background": "light"
          }
        }
      ]
    },
    {
      "cell_type": "code",
      "metadata": {
        "colab": {
          "base_uri": "https://localhost:8080/",
          "height": 331
        },
        "id": "2l0yO5wvrPmd",
        "outputId": "58975ba5-dd62-4f14-a129-95e59c5dd795"
      },
      "source": [
        "label = \"sex\"\n",
        "y = cupid_df3[label]\n",
        "x = cupid_df3.drop(label, axis=1)\n",
        "train, test, target, target_test = train_test_split(x, y, test_size=0.3, random_state=0)\n",
        "\n",
        "from sklearn.naive_bayes import GaussianNB\n",
        "gauss = GaussianNB()\n",
        "gauss.fit(train, target)\n",
        "\n",
        "##WITH FLAGS\n",
        "from sklearn import metrics\n",
        "gauss_pred = gauss.predict(test)\n",
        "gauss_pred1 = gauss.predict(train)\n",
        "score1 = metrics.accuracy_score(target_test, gauss_pred)\n",
        "score2 = metrics.accuracy_score(target, gauss_pred1)\n",
        "print(score1)\n",
        "print(score2)\n",
        "\n",
        "draw_confusion_matrix(target_test, gauss_pred, ['Male', 'Female'])"
      ],
      "execution_count": null,
      "outputs": [
        {
          "output_type": "stream",
          "text": [
            "0.8306893162993121\n",
            "0.8350682953246285\n"
          ],
          "name": "stdout"
        },
        {
          "output_type": "display_data",
          "data": {
            "image/png": "[encoded data removed]",
            "text/plain": [
              "<Figure size 432x288 with 2 Axes>"
            ]
          },
          "metadata": {
            "tags": [],
            "needs_background": "light"
          }
        }
      ]
    },
    {
      "cell_type": "code",
      "metadata": {
        "colab": {
          "base_uri": "https://localhost:8080/",
          "height": 331
        },
        "id": "ofTV9tFTskpt",
        "outputId": "cbe4a101-eb02-4f6b-99ba-67d3271fe149"
      },
      "source": [
        "label = \"new_sign\"\n",
        "y = cupid_df3[label]\n",
        "x = cupid_df3.drop(label, axis=1)\n",
        "train, test, target, target_test = train_test_split(x, y, test_size=0.3, random_state=0)\n",
        "\n",
        "from sklearn.naive_bayes import GaussianNB\n",
        "gauss = GaussianNB()\n",
        "gauss.fit(train, target)\n",
        "\n",
        "##WITH FLAGS\n",
        "from sklearn import metrics\n",
        "gauss_pred = gauss.predict(test)\n",
        "gauss_pred1 = gauss.predict(train)\n",
        "score1 = metrics.accuracy_score(target_test, gauss_pred)\n",
        "score2 = metrics.accuracy_score(target, gauss_pred1)\n",
        "print(score1)\n",
        "print(score2)\n",
        "\n",
        "draw_confusion_matrix(target_test, gauss_pred, [\"aquarius\", \"pisces\", \"aries\", \"taurus\", \"gemini\", \"cancer\", \"leo\", \"virgo\", \"libra\", \"scorpio\", \"sagittarius\",  \"capricorn\"])"
      ],
      "execution_count": null,
      "outputs": [
        {
          "output_type": "stream",
          "text": [
            "0.08535729327530535\n",
            "0.09441001263613936\n"
          ],
          "name": "stdout"
        },
        {
          "output_type": "display_data",
          "data": {
            "image/png": "[encoded data removed]",
            "text/plain": [
              "<Figure size 432x288 with 2 Axes>"
            ]
          },
          "metadata": {
            "tags": [],
            "needs_background": "light"
          }
        }
      ]
    }
  ]
}